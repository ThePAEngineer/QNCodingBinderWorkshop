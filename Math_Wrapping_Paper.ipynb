{
  "nbformat": 4,
  "nbformat_minor": 0,
  "metadata": {
    "colab": {
      "provenance": [],
      "collapsed_sections": [
        "t-Vcq1i4divB",
        "YDJUZw8bdu2Y",
        "amy-EHedexO4",
        "hOf2ieUEfKer"
      ],
      "include_colab_link": true
    },
    "kernelspec": {
      "name": "python3",
      "display_name": "Python 3"
    },
    "language_info": {
      "name": "python"
    }
  },
  "cells": [
    {
      "cell_type": "markdown",
      "metadata": {
        "id": "view-in-github",
        "colab_type": "text"
      },
      "source": [
        "<a href=\"https://colab.research.google.com/github/Peter-Apps/coding-camp/blob/main/Wrapping_Paper.ipynb\" target=\"_parent\"><img src=\"https://colab.research.google.com/assets/colab-badge.svg\" alt=\"Open In Colab\"/></a>"
      ]
    },
    {
      "cell_type": "code",
      "source": [
        "Name = \"Student One\" #@param {type: 'string'}"
      ],
      "metadata": {
        "cellView": "form",
        "id": "2305TuRxvCvz"
      },
      "execution_count": null,
      "outputs": []
    },
    {
      "cell_type": "markdown",
      "metadata": {
        "id": "t-Vcq1i4divB"
      },
      "source": [
        "# Introduction to making columns of data and manipulating them in python.\n",
        "\n",
        "Today you are going to learn how a little coding can make doing math easier, especially when you have a lot of math to do.\n",
        "\n",
        "Click on the arrow to the left of this cell to show the code we are going to be working on.\n",
        "\n",
        "First import your libraries. Everything in green is a comment. In other words it isn't part of the code. It just descibes what the code does for us humans. To run a block of code click on the play button to the left of the block. If you don't run the code with your libraries nothing will work."
      ]
    },
    {
      "cell_type": "code",
      "source": [
        "#This code gets us the libraries we are going to use to do stuff\n",
        "import pandas as pd\n",
        "import numpy as np"
      ],
      "metadata": {
        "id": "R4-lNabHrmQs"
      },
      "execution_count": null,
      "outputs": []
    },
    {
      "cell_type": "markdown",
      "metadata": {
        "id": "GTHjwm4UeGSa"
      },
      "source": [
        "Next, we need to import our data."
      ]
    },
    {
      "cell_type": "code",
      "metadata": {
        "id": "Jd_s5iB3D8Zz"
      },
      "source": [
        "#This code creates a variable called 'df' that we can play with. (df is short for data frame, but you can call it whatever you want.)\n",
        "#In this particular case df is a set of 10 pairs of random integers ranging from 1 to 10.\n",
        "df= pd.DataFrame(np.random.randint(1, 11, (10,2)))\n",
        "\n",
        "#prints the variable called 'df'\n",
        "df\n"
      ],
      "execution_count": null,
      "outputs": []
    },
    {
      "cell_type": "markdown",
      "metadata": {
        "id": "NPj27VpWLmGP"
      },
      "source": [
        "Now lets give our columns of random numbers some more interesting names.\n",
        "Change the column names (in red) to something you like, but that makes sense."
      ]
    },
    {
      "cell_type": "code",
      "metadata": {
        "id": "t3siV19AjR7Z"
      },
      "source": [
        "#create column names\n",
        "df.columns = ['thing 1', 'thing 2']\n",
        "\n",
        "#show data\n",
        "df"
      ],
      "execution_count": null,
      "outputs": []
    },
    {
      "cell_type": "markdown",
      "metadata": {
        "id": "x3ok0Pp9N3Pa"
      },
      "source": [
        "Before we can start manipluating our data we need to know how python does math. It's pretty straight forward which is nice. Run the code below to see how math operations work in python."
      ]
    },
    {
      "cell_type": "code",
      "metadata": {
        "id": "xqSrWVPFOIwj"
      },
      "source": [
        "3*2"
      ],
      "execution_count": null,
      "outputs": []
    },
    {
      "cell_type": "code",
      "metadata": {
        "id": "cR5C20qpOM0y"
      },
      "source": [
        "6/3"
      ],
      "execution_count": null,
      "outputs": []
    },
    {
      "cell_type": "code",
      "metadata": {
        "id": "tkdnAJKYOSfS"
      },
      "source": [
        "2+3"
      ],
      "execution_count": null,
      "outputs": []
    },
    {
      "cell_type": "code",
      "metadata": {
        "id": "qRHitWqwOVnd"
      },
      "source": [
        "3-2"
      ],
      "execution_count": null,
      "outputs": []
    },
    {
      "cell_type": "code",
      "metadata": {
        "id": "FSiEl8EKOX88"
      },
      "source": [
        "6**2"
      ],
      "execution_count": null,
      "outputs": []
    },
    {
      "cell_type": "code",
      "source": [
        "#@markdown Why does 6 divided by 3 give a decimal while the other expressions give integers?\n",
        "\n",
        "Response_1 = \"\" #@param {type: 'string'}"
      ],
      "metadata": {
        "cellView": "form",
        "id": "l6JYCbqNIRos"
      },
      "execution_count": null,
      "outputs": []
    },
    {
      "cell_type": "code",
      "metadata": {
        "id": "DEpvWLGWPUP4",
        "cellView": "form"
      },
      "source": [
        "#@markdown What operation do you think is happening in that last cell?\n",
        "\n",
        "Response_2 = \"\" #@param {type: 'string'}"
      ],
      "execution_count": null,
      "outputs": []
    },
    {
      "cell_type": "markdown",
      "metadata": {
        "id": "yW_htefQPz3t"
      },
      "source": [
        "So let's say I want to add the data in column 1 to the data in column 2. I would use the headers of the columns as their names and add the names together. Check out the code below."
      ]
    },
    {
      "cell_type": "code",
      "metadata": {
        "id": "S2VT4y3vQEZm"
      },
      "source": [
        "df['thing 1'] + df['thing 2']"
      ],
      "execution_count": null,
      "outputs": []
    },
    {
      "cell_type": "markdown",
      "metadata": {
        "id": "82GdMrtqQTom"
      },
      "source": [
        "So the computer is showing me a list of all the added up values, but I want to see this as a new column along with the rest of my data. I need to create a new column name which I'll do in the code below."
      ]
    },
    {
      "cell_type": "code",
      "metadata": {
        "id": "Aa6v9j5eQwTI"
      },
      "source": [
        "df['addition'] = df['thing 1'] + df['thing 2']\n",
        "\n",
        "#now show me the data\n",
        "df"
      ],
      "execution_count": null,
      "outputs": []
    },
    {
      "cell_type": "markdown",
      "metadata": {
        "id": "mDEZXerIRAxq"
      },
      "source": [
        "Now we can see that the numbers in the first two columns add up to the value in the third column.\n",
        "\n",
        "It's your turn. Write some code to perform at least 2 more opperations on the data and show it in two new columns that you name."
      ]
    },
    {
      "cell_type": "code",
      "metadata": {
        "id": "my-ncUAZRWGE"
      },
      "source": [
        "#...and GO\n"
      ],
      "execution_count": null,
      "outputs": []
    },
    {
      "cell_type": "markdown",
      "metadata": {
        "id": "PCJi6S30RgFP"
      },
      "source": [
        "Look at you coding in python!\n",
        "\n",
        "Time to apply what you have learned about coding to geometry."
      ]
    },
    {
      "cell_type": "markdown",
      "metadata": {
        "id": "YDJUZw8bdu2Y"
      },
      "source": [
        "# How Much Wrapping Paper do we Need?"
      ]
    },
    {
      "cell_type": "markdown",
      "metadata": {
        "id": "amy-EHedexO4"
      },
      "source": [
        "##### The elves are running low on wrapping paper, so they need to submit an order for more. They have a list of the dimensions (length l, width w, and height h) of each present, and only want to order exactly as much as they need.\n",
        "\n",
        "Fortunately, every present is a box (a perfect rectangular prism), which makes calculating the required wrapping paper for each gift a little easier: find the surface area of the box, which is 2lw + 2wh + 2hl. The elves also need a little extra paper for each present: the area of the smallest side. This allows for some paper to overlap.\n",
        "\n",
        "For example:\n",
        "\n",
        "A present with dimensions 2x3x4 requires (2 x 6) + (2 x 12) + (2 x 8) = 52 square feet of wrapping paper plus 6 square feet of slack, for a total of 58 square feet. A present with dimensions 1x1x10 requires (2 x 1) + (2 x 10) + (2 x 10) = 42 square feet of wrapping paper plus 1 square foot of slack, for a total of 43 square feet. All numbers in the elves' list are in feet. How many total square feet of wrapping paper should they order?"
      ]
    },
    {
      "cell_type": "markdown",
      "metadata": {
        "id": "hOf2ieUEfKer"
      },
      "source": [
        "###### This would be a very time consuming task to complete by hand or even with a calculator, but using python we can find the solution with a few short lines of code."
      ]
    },
    {
      "cell_type": "code",
      "metadata": {
        "id": "xm0OKGJEeLFe"
      },
      "source": [
        "#import data\n",
        "url = 'https://raw.githubusercontent.com/jybreman/geochristmas/main/geochristmas%20data%20-%20Sheet1%20(3).csv'\n",
        "data = pd.read_csv(url)\n",
        "\n",
        "#prints the first 5 lines of data (or whatever humber of lines you put in parenthesis, 5 is the default)\n",
        "data.head()\n"
      ],
      "execution_count": null,
      "outputs": []
    },
    {
      "cell_type": "code",
      "metadata": {
        "id": "idzo_9J6zr2w",
        "cellView": "form"
      },
      "source": [
        "#@markdown Notice that the data we are given is in the format LxWxH. What are we supposed to do with that? What do you think we need to do?\n",
        "Thoughts = \" get rid of the x's\" #@param {type: 'string'}\n",
        "#@markdown Once you have mulled it over check out the code below to see how to address our problem."
      ],
      "execution_count": null,
      "outputs": []
    },
    {
      "cell_type": "code",
      "metadata": {
        "id": "Pvm_nuavx-BK",
        "colab": {
          "base_uri": "https://localhost:8080/",
          "height": 206
        },
        "outputId": "953d37c0-2a90-4ede-a23f-ab5861849c80"
      },
      "source": [
        "#import the data again, but this time split it every time there is a 'x', make a header on the first row, and name the columns L, W, and H\n",
        "data = pd.read_csv(url, delimiter='x', header=0, names=['L','W','H']) #make the data pretty\n",
        "data.head()"
      ],
      "execution_count": null,
      "outputs": [
        {
          "output_type": "execute_result",
          "data": {
            "text/plain": [
              "    L   W   H\n",
              "0  29  13  26\n",
              "1  11  11  14\n",
              "2  27   2   5\n",
              "3   6  10  13\n",
              "4  15  19  10"
            ],
            "text/html": [
              "\n",
              "  <div id=\"df-f718f08e-1086-4896-a369-000952467be9\">\n",
              "    <div class=\"colab-df-container\">\n",
              "      <div>\n",
              "<style scoped>\n",
              "    .dataframe tbody tr th:only-of-type {\n",
              "        vertical-align: middle;\n",
              "    }\n",
              "\n",
              "    .dataframe tbody tr th {\n",
              "        vertical-align: top;\n",
              "    }\n",
              "\n",
              "    .dataframe thead th {\n",
              "        text-align: right;\n",
              "    }\n",
              "</style>\n",
              "<table border=\"1\" class=\"dataframe\">\n",
              "  <thead>\n",
              "    <tr style=\"text-align: right;\">\n",
              "      <th></th>\n",
              "      <th>L</th>\n",
              "      <th>W</th>\n",
              "      <th>H</th>\n",
              "    </tr>\n",
              "  </thead>\n",
              "  <tbody>\n",
              "    <tr>\n",
              "      <th>0</th>\n",
              "      <td>29</td>\n",
              "      <td>13</td>\n",
              "      <td>26</td>\n",
              "    </tr>\n",
              "    <tr>\n",
              "      <th>1</th>\n",
              "      <td>11</td>\n",
              "      <td>11</td>\n",
              "      <td>14</td>\n",
              "    </tr>\n",
              "    <tr>\n",
              "      <th>2</th>\n",
              "      <td>27</td>\n",
              "      <td>2</td>\n",
              "      <td>5</td>\n",
              "    </tr>\n",
              "    <tr>\n",
              "      <th>3</th>\n",
              "      <td>6</td>\n",
              "      <td>10</td>\n",
              "      <td>13</td>\n",
              "    </tr>\n",
              "    <tr>\n",
              "      <th>4</th>\n",
              "      <td>15</td>\n",
              "      <td>19</td>\n",
              "      <td>10</td>\n",
              "    </tr>\n",
              "  </tbody>\n",
              "</table>\n",
              "</div>\n",
              "      <button class=\"colab-df-convert\" onclick=\"convertToInteractive('df-f718f08e-1086-4896-a369-000952467be9')\"\n",
              "              title=\"Convert this dataframe to an interactive table.\"\n",
              "              style=\"display:none;\">\n",
              "        \n",
              "  <svg xmlns=\"http://www.w3.org/2000/svg\" height=\"24px\"viewBox=\"0 0 24 24\"\n",
              "       width=\"24px\">\n",
              "    <path d=\"M0 0h24v24H0V0z\" fill=\"none\"/>\n",
              "    <path d=\"M18.56 5.44l.94 2.06.94-2.06 2.06-.94-2.06-.94-.94-2.06-.94 2.06-2.06.94zm-11 1L8.5 8.5l.94-2.06 2.06-.94-2.06-.94L8.5 2.5l-.94 2.06-2.06.94zm10 10l.94 2.06.94-2.06 2.06-.94-2.06-.94-.94-2.06-.94 2.06-2.06.94z\"/><path d=\"M17.41 7.96l-1.37-1.37c-.4-.4-.92-.59-1.43-.59-.52 0-1.04.2-1.43.59L10.3 9.45l-7.72 7.72c-.78.78-.78 2.05 0 2.83L4 21.41c.39.39.9.59 1.41.59.51 0 1.02-.2 1.41-.59l7.78-7.78 2.81-2.81c.8-.78.8-2.07 0-2.86zM5.41 20L4 18.59l7.72-7.72 1.47 1.35L5.41 20z\"/>\n",
              "  </svg>\n",
              "      </button>\n",
              "      \n",
              "  <style>\n",
              "    .colab-df-container {\n",
              "      display:flex;\n",
              "      flex-wrap:wrap;\n",
              "      gap: 12px;\n",
              "    }\n",
              "\n",
              "    .colab-df-convert {\n",
              "      background-color: #E8F0FE;\n",
              "      border: none;\n",
              "      border-radius: 50%;\n",
              "      cursor: pointer;\n",
              "      display: none;\n",
              "      fill: #1967D2;\n",
              "      height: 32px;\n",
              "      padding: 0 0 0 0;\n",
              "      width: 32px;\n",
              "    }\n",
              "\n",
              "    .colab-df-convert:hover {\n",
              "      background-color: #E2EBFA;\n",
              "      box-shadow: 0px 1px 2px rgba(60, 64, 67, 0.3), 0px 1px 3px 1px rgba(60, 64, 67, 0.15);\n",
              "      fill: #174EA6;\n",
              "    }\n",
              "\n",
              "    [theme=dark] .colab-df-convert {\n",
              "      background-color: #3B4455;\n",
              "      fill: #D2E3FC;\n",
              "    }\n",
              "\n",
              "    [theme=dark] .colab-df-convert:hover {\n",
              "      background-color: #434B5C;\n",
              "      box-shadow: 0px 1px 3px 1px rgba(0, 0, 0, 0.15);\n",
              "      filter: drop-shadow(0px 1px 2px rgba(0, 0, 0, 0.3));\n",
              "      fill: #FFFFFF;\n",
              "    }\n",
              "  </style>\n",
              "\n",
              "      <script>\n",
              "        const buttonEl =\n",
              "          document.querySelector('#df-f718f08e-1086-4896-a369-000952467be9 button.colab-df-convert');\n",
              "        buttonEl.style.display =\n",
              "          google.colab.kernel.accessAllowed ? 'block' : 'none';\n",
              "\n",
              "        async function convertToInteractive(key) {\n",
              "          const element = document.querySelector('#df-f718f08e-1086-4896-a369-000952467be9');\n",
              "          const dataTable =\n",
              "            await google.colab.kernel.invokeFunction('convertToInteractive',\n",
              "                                                     [key], {});\n",
              "          if (!dataTable) return;\n",
              "\n",
              "          const docLinkHtml = 'Like what you see? Visit the ' +\n",
              "            '<a target=\"_blank\" href=https://colab.research.google.com/notebooks/data_table.ipynb>data table notebook</a>'\n",
              "            + ' to learn more about interactive tables.';\n",
              "          element.innerHTML = '';\n",
              "          dataTable['output_type'] = 'display_data';\n",
              "          await google.colab.output.renderOutput(dataTable, element);\n",
              "          const docLink = document.createElement('div');\n",
              "          docLink.innerHTML = docLinkHtml;\n",
              "          element.appendChild(docLink);\n",
              "        }\n",
              "      </script>\n",
              "    </div>\n",
              "  </div>\n",
              "  "
            ]
          },
          "metadata": {},
          "execution_count": 29
        }
      ]
    },
    {
      "cell_type": "markdown",
      "metadata": {
        "id": "rPwtyspMUfGZ"
      },
      "source": [
        "See what happens if you just type in data instead of data.head()\n",
        "\n",
        "So we have 1000 boxes to wrap, and we have the length, width, and height of each box in feet."
      ]
    },
    {
      "cell_type": "markdown",
      "metadata": {
        "id": "7DDWO9kZVb3r"
      },
      "source": [
        "Just for funnzies lets make a column for the volume of each box."
      ]
    },
    {
      "cell_type": "code",
      "metadata": {
        "id": "UCxN8FSSJ6XZ"
      },
      "source": [
        "#make a column for the volume of a box\n"
      ],
      "execution_count": null,
      "outputs": []
    },
    {
      "cell_type": "markdown",
      "metadata": {
        "id": "FRml07OmVpsg"
      },
      "source": [
        "What do you think you should do next? Remember we need to know the surface area of each box to get the total amount of wrapping paper needed. You can refer back to any part of this colab."
      ]
    },
    {
      "cell_type": "code",
      "metadata": {
        "id": "PTqpkfhKVoXx"
      },
      "source": [
        "#make columns for the areas of 3 different faces then multiply each face area by 2 (because there's 2 of each face in a rectangluar prism).\n",
        "#so you should create 3 columns here.\n",
        "\n"
      ],
      "execution_count": null,
      "outputs": []
    },
    {
      "cell_type": "markdown",
      "metadata": {
        "id": "ZkuJAfhvWQvW"
      },
      "source": [
        "Here is a freebie. You need to add in the area of the smallest side which means you need to make a variable for the smallest side. You will have to change the header names to match whatever you named them."
      ]
    },
    {
      "cell_type": "code",
      "metadata": {
        "id": "B2qvu9IgWPYF"
      },
      "source": [
        "#makes a column for the side with the minimum surface area\n",
        "data['minside'] = data[['side 1', 'side 2', 'side 3']].min(axis=1)\n",
        "data.head()\n"
      ],
      "execution_count": null,
      "outputs": []
    },
    {
      "cell_type": "markdown",
      "metadata": {
        "id": "0UOFmuk5XR_s"
      },
      "source": [
        "Now make a column for the total surface area of a box including the area of the smallest side."
      ]
    },
    {
      "cell_type": "code",
      "metadata": {
        "id": "8A25wE9QXP4b"
      },
      "source": [
        "#make a column for the total surface area of a box including the area of the smallest side\n",
        "\n",
        "\n",
        "#show the first five rows of data\n",
        "data.head()\n"
      ],
      "execution_count": null,
      "outputs": []
    },
    {
      "cell_type": "markdown",
      "metadata": {
        "id": "EaEinGHMXrQk"
      },
      "source": [
        "Now we just need to add up the final column right? Run the code below with your heading in place of totSA (total surface area)."
      ]
    },
    {
      "cell_type": "code",
      "metadata": {
        "id": "b80H9vXqhZy4"
      },
      "source": [
        "#calculates and displays the sum of the total surface areas (with the min side added in) of all the boxes\n",
        "print (\"The elves need\", data['totSA'].sum(), \"square feet of wrapping paper\")"
      ],
      "execution_count": null,
      "outputs": []
    },
    {
      "cell_type": "code",
      "source": [
        "#@markdown Please record the total square footage of all the boxes below.\n",
        "Total_Surface_Area = ' 29786 square ft.' #@param {type: 'string'}\n",
        "#@markdown Once you have completed all tasks please run the code below to send your answers to me."
      ],
      "metadata": {
        "cellView": "form",
        "id": "xeLbW6f9xlEK"
      },
      "execution_count": null,
      "outputs": []
    },
    {
      "cell_type": "code",
      "source": [
        "#this box of code sends your answers from the embedded questions to a spreadsheet that only I have access to.\n",
        "from google.colab import drive\n",
        "drive.mount('/content/drive')\n",
        "\n",
        "from google.colab import auth\n",
        "auth.authenticate_user()\n",
        "\n",
        "import gspread\n",
        "from google.auth import default\n",
        "creds, _ = default()\n",
        "\n",
        "gc = gspread.authorize(creds)\n",
        "\n",
        "def next_available_row(worksheet):\n",
        "    str_list = list(filter(None, worksheet.col_values(1)))\n",
        "    return str(len(str_list)+1)\n",
        "\n",
        "try:\n",
        "  student_responses = gc.open('Wrapping Paper Responses').sheet1\n",
        "except:\n",
        "  print('Creating file')\n",
        "  student_responses = gc.create('Wrapping Paper Responses').sheet1\n",
        "\n",
        "first_row = next_available_row(student_responses)\n",
        "range = f'A{first_row}:E{first_row}'\n",
        "cell_list = student_responses.range(range)\n",
        "responses = [Name, Response_1, Response_2, Thoughts, Total_Surface_Area]\n",
        "for cell,value in zip(cell_list, responses):\n",
        "  cell.value = value\n",
        "\n",
        "student_responses.update_cells(cell_list)\n",
        "# Go to https://sheets.google.com to see your new spreadsheet."
      ],
      "metadata": {
        "id": "WxYHtIL9sCvo"
      },
      "execution_count": null,
      "outputs": []
    },
    {
      "cell_type": "markdown",
      "source": [
        "# Credits"
      ],
      "metadata": {
        "id": "ufN1iF7bNUGc"
      }
    },
    {
      "cell_type": "markdown",
      "source": [
        "This notebook was designed by [Quarknet](https://quarknet.org/) Coding Fellow Joy Breman with the help of Quarknet Teaching and Learning Fellow Adam Lamee. Thanks to the great folks at [Binder](https://mybinder.org/) and [Google Colaboratory](https://colab.research.google.com/notebooks/intro.ipynb) for making this notebook interactive without you needing to download it or install [Jupyter](https://jupyter.org/) on your own device. Find more activities at Adam's site, [CODINGinK12.org](https://adamlamee.github.io/CODINGinK12/teachers)."
      ],
      "metadata": {
        "id": "uy8sc4ynHT9u"
      }
    }
  ]
}