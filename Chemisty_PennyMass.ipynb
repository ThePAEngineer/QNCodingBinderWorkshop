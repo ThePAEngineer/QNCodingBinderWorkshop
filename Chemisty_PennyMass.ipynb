{
  "nbformat": 4,
  "nbformat_minor": 0,
  "metadata": {
    "colab": {
      "provenance": [],
      "include_colab_link": true
    },
    "kernelspec": {
      "name": "python3",
      "display_name": "Python 3"
    },
    "language_info": {
      "name": "python"
    }
  },
  "cells": [
    {
      "cell_type": "markdown",
      "metadata": {
        "id": "view-in-github",
        "colab_type": "text"
      },
      "source": [
        "<a href=\"https://colab.research.google.com/github/Peter-Apps/coding-camp/blob/main/Penny_Mass_Plot.ipynb\" target=\"_parent\"><img src=\"https://colab.research.google.com/assets/colab-badge.svg\" alt=\"Open In Colab\"/></a>"
      ]
    },
    {
      "cell_type": "markdown",
      "source": [
        "This notebook will be an example for how to create a histogram using data taken from measuring the mass of pennies from different years."
      ],
      "metadata": {
        "id": "wxWKEXn0kyVE"
      }
    },
    {
      "cell_type": "markdown",
      "source": [
        "First, we will need to import a few libraries. We need pandas so we can read our data file.\n",
        "Numpy\n",
        "matplotlib\n",
        "matplotlib.pyplot"
      ],
      "metadata": {
        "id": "bwYVLz6UlNMV"
      }
    },
    {
      "cell_type": "code",
      "source": [
        "import pandas as pd\n",
        "import numpy as np\n",
        "from math import cos, sin, pi\n",
        "import matplotlib as mpl\n",
        "import matplotlib.pyplot as plt"
      ],
      "metadata": {
        "id": "F49NP-nPlZzv"
      },
      "execution_count": null,
      "outputs": []
    },
    {
      "cell_type": "markdown",
      "source": [
        "The next thing we need is our data. The information we want to use is stored as a csv file in excel. We want to import this into our notebook.\n",
        "\n",
        "The pandas library is what allows us to be able to read the csv file stored on github. To import this file, go to the github, click on the file, and copy the url of the page.\n",
        "\n",
        "Now, I am by no means an expert when it comes to coding or using github, so I think I have done something wrong here. I hold this belief because you are going to have to change the \"blob\" in the URL to \"raw\" in order to properly import the data. I am working on figuring that part out..."
      ],
      "metadata": {
        "id": "LB-iAo1dlm-v"
      }
    },
    {
      "cell_type": "code",
      "source": [
        "data = pd.read_csv(\"https://github.com/tracieschroeder/CodingCamp/raw/main/Penny_Mass_Data_Set.csv\")"
      ],
      "metadata": {
        "id": "lk53qFUMlx4g"
      },
      "execution_count": null,
      "outputs": []
    },
    {
      "cell_type": "markdown",
      "source": [
        "Where is our data? Why can't we see anything?\n",
        "\n",
        "We haven't told the computer to print it yet. Remove the hashtag below and play that cell."
      ],
      "metadata": {
        "id": "DDUKbszDoQwk"
      }
    },
    {
      "cell_type": "code",
      "source": [
        "#data.head(5)\n",
        "#Take the .head(5) out of the student version and add a hashtag to the front"
      ],
      "metadata": {
        "id": "cXlQzs7BobGY"
      },
      "execution_count": null,
      "outputs": []
    },
    {
      "cell_type": "markdown",
      "source": [
        "That is a lot of data. Click on the sparkly wand in the top corner and it will let you see each row of data.\n",
        "\n",
        "We can also tell it to print just a few lines. Go back up and change the command to data.head(5) after the data command.\n",
        "\n",
        "What happens to our data table?"
      ],
      "metadata": {
        "id": "BmhifGR_ojMD"
      }
    },
    {
      "cell_type": "markdown",
      "source": [
        "Matplotlib is the library we are going to use to create a histgram of our penny data.\n",
        "\n",
        "In the code box below, hover your mouse over the parentheses. There is a nice little informational box that will pop up and let you know what we need to add to the box in order to create our histogram.\n",
        "\n",
        "The important ones are the first three (x, bins=None, range=None)\n"
      ],
      "metadata": {
        "id": "9IlsEX_tpfs_"
      }
    },
    {
      "cell_type": "code",
      "source": [
        "#plt.hist\n",
        "#Remove inside the parentheses for student version"
      ],
      "metadata": {
        "id": "IhQnXju4poBy"
      },
      "execution_count": null,
      "outputs": []
    },
    {
      "cell_type": "markdown",
      "source": [
        "Notice that this still doesn't create a histogram for us. We need to define a few things here.\n",
        "\n",
        "First, what do we want to actually graph? There are a few options. If we go back up to our data table, we have three columns. Year, Mass, Mint. We could plot any of these, but for this round, let's go with Mass. Instead of \"x\", we are going to pull from our \"data\" csv file and the Mass column. Delete the \"x\" and type in \"data.['Mass']\n",
        "\n",
        "plt defaults to 10 bins. You can change this to any number, but 10 is typically a good place to start. Delete \"bins-None\" and type in \"10\" (no quotation marks!).\n",
        "\n",
        "For range, you can also change it if you like, but for now, leave it as it is."
      ],
      "metadata": {
        "id": "HpGBSINUqwNy"
      }
    },
    {
      "cell_type": "code",
      "source": [
        "plt.hist(data['Mass'], bins=None, range=None)"
      ],
      "metadata": {
        "colab": {
          "base_uri": "https://localhost:8080/",
          "height": 334
        },
        "id": "Sam02J60r4Nv",
        "outputId": "a899cfc6-ab7e-4f64-8669-569c540ed8b8"
      },
      "execution_count": null,
      "outputs": [
        {
          "output_type": "execute_result",
          "data": {
            "text/plain": [
              "(array([  5., 685.,  27.,   0.,   0.,   0.,   1.,  85., 248.,  10.]),\n",
              " array([2.367 , 2.4549, 2.5428, 2.6307, 2.7186, 2.8065, 2.8944, 2.9823,\n",
              "        3.0702, 3.1581, 3.246 ]),\n",
              " <BarContainer object of 10 artists>)"
            ]
          },
          "metadata": {},
          "execution_count": 41
        },
        {
          "output_type": "display_data",
          "data": {
            "text/plain": [
              "<Figure size 432x288 with 1 Axes>"
            ],
            "image/png": "[encoded data removed]"
          },
          "metadata": {
            "needs_background": "light"
          }
        }
      ]
    },
    {
      "cell_type": "markdown",
      "source": [
        "Try changing the number of bins to 20. How does that change each peak location? How does it change the number of events for each bin?\n",
        "\n",
        "You can also set the range for a specific set of values. For example, change \"None\" to \"[2,2.7]\""
      ],
      "metadata": {
        "id": "Z0hWLUYb5i1q"
      }
    }
  ]
}