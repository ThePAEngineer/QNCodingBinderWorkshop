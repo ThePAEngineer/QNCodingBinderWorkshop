{
  "nbformat": 4,
  "nbformat_minor": 0,
  "metadata": {
    "colab": {
      "provenance": [],
      "include_colab_link": true
    },
    "kernelspec": {
      "name": "python3",
      "display_name": "Python 3"
    }
  },
  "cells": [
    {
      "cell_type": "markdown",
      "metadata": {
        "id": "view-in-github",
        "colab_type": "text"
      },
      "source": [
        "<a href=\"https://colab.research.google.com/github/Peter-Apps/coding-camp/blob/main/Pendulum_Analysis.ipynb\" target=\"_parent\"><img src=\"https://colab.research.google.com/assets/colab-badge.svg\" alt=\"Open In Colab\"/></a>"
      ]
    },
    {
      "cell_type": "markdown",
      "metadata": {
        "id": "WC1nUzIFhJBz"
      },
      "source": [
        "# Pendulum Physics\n",
        "What is the relationship between variables of a pendulum?"
      ]
    },
    {
      "cell_type": "code",
      "metadata": {
        "id": "M6OH4F5wgjvh"
      },
      "source": [
        "#import python libraries\n",
        "import numpy as np\n",
        "import pandas as pd\n",
        "import matplotlib.pyplot as plt\n",
        "from numpy.polynomial.polynomial import polyfit\n",
        "import scipy as sp\n",
        "import statistics as stats"
      ],
      "execution_count": null,
      "outputs": []
    },
    {
      "cell_type": "markdown",
      "metadata": {
        "id": "1JvWo7u94m7l"
      },
      "source": [
        "# Pendulum Lab Dry Run\n",
        "Purpose: To determine how the period for small oscillations of a pendulum depends on its mass and length.\n",
        "\n",
        "Equipment: PhET Pendulum Simulation (http://phet.colorado.edu/sims/pendulum-lab/pendulum-lab_en.html)\n",
        "\n",
        "Procedure: Measure the period of a pendulum for 15° oscillations on either side of the middle: \n",
        "\n",
        "A) as a function of its length with a constant mass\n",
        "\n",
        "B) as a function of mass with a constant length.\n",
        "\n",
        "Discuss your results with your team before writing your conclusion.\n",
        "\n",
        "Conclusion: Write a concluding statement below, summarizing your results and including the appropriate equation."
      ]
    },
    {
      "cell_type": "markdown",
      "metadata": {
        "id": "Pgok_UDCglln"
      },
      "source": [
        "# Part 1\n",
        "Gather data and import. Visualize the data in a way so as to best understand what the relationships are between the key variables.\n",
        "\n",
        "Jumpstart: focus on the length, mass and period of the pendulum.\n",
        "\n",
        "Work directly with your team to develop your code and troubleshoot."
      ]
    },
    {
      "cell_type": "code",
      "metadata": {
        "id": "fTKAXL_W5Evv",
        "colab": {
          "base_uri": "https://localhost:8080/",
          "height": 135
        },
        "outputId": "a89484ec-1cd8-4af0-aa91-c14eb6d38451"
      },
      "source": [
        "#create data table from PhET\n",
        "#importing the data set\n",
        "data_url = \"https://github.com/fizzixprof/Pendulum/raw/master/PendulumPhetData.csv\"\n",
        "data = pd.read_csv(data_url,error_bad_lines=False)\n",
        "#show the first 3 lines of the data set\n",
        "data.head(3)\n"
      ],
      "execution_count": null,
      "outputs": [
        {
          "output_type": "execute_result",
          "data": {
            "text/html": [
              "<div>\n",
              "<style scoped>\n",
              "    .dataframe tbody tr th:only-of-type {\n",
              "        vertical-align: middle;\n",
              "    }\n",
              "\n",
              "    .dataframe tbody tr th {\n",
              "        vertical-align: top;\n",
              "    }\n",
              "\n",
              "    .dataframe thead th {\n",
              "        text-align: right;\n",
              "    }\n",
              "</style>\n",
              "<table border=\"1\" class=\"dataframe\">\n",
              "  <thead>\n",
              "    <tr style=\"text-align: right;\">\n",
              "      <th></th>\n",
              "      <th>Mass (kg)</th>\n",
              "      <th>Length (m)</th>\n",
              "      <th>Period (s)</th>\n",
              "    </tr>\n",
              "  </thead>\n",
              "  <tbody>\n",
              "    <tr>\n",
              "      <th>0</th>\n",
              "      <td>1.0</td>\n",
              "      <td>0.7</td>\n",
              "      <td>1.6856</td>\n",
              "    </tr>\n",
              "    <tr>\n",
              "      <th>1</th>\n",
              "      <td>1.5</td>\n",
              "      <td>0.7</td>\n",
              "      <td>1.6856</td>\n",
              "    </tr>\n",
              "    <tr>\n",
              "      <th>2</th>\n",
              "      <td>0.1</td>\n",
              "      <td>0.7</td>\n",
              "      <td>1.6856</td>\n",
              "    </tr>\n",
              "  </tbody>\n",
              "</table>\n",
              "</div>"
            ],
            "text/plain": [
              "   Mass (kg)  Length (m)  Period (s)\n",
              "0        1.0         0.7      1.6856\n",
              "1        1.5         0.7      1.6856\n",
              "2        0.1         0.7      1.6856"
            ]
          },
          "metadata": {
            "tags": []
          },
          "execution_count": 2
        }
      ]
    },
    {
      "cell_type": "code",
      "metadata": {
        "id": "mJs1xWm-8Rav"
      },
      "source": [
        "data.shape #show the size (rows,columns) of the data set"
      ],
      "execution_count": null,
      "outputs": []
    },
    {
      "cell_type": "code",
      "metadata": {
        "id": "l7T-e2hb8kUn"
      },
      "source": [
        "plt.scatter(data[\"Mass (kg)\"], data[\"Period (s)\"]) # Telling what data to plot (x,y)\n",
        "plt.title(\"Period vs. Mass Graph\")      # Adding a Title\n",
        "plt.xlabel(\"Mass (kg)\")                   # Adding axis labels\n",
        "plt.ylabel(\"Period (s)\")"
      ],
      "execution_count": null,
      "outputs": []
    },
    {
      "cell_type": "markdown",
      "metadata": {
        "id": "X45lpF8fgjOf"
      },
      "source": [
        "This graph has helpful information but it's difficult to view. \n",
        "\n",
        "Only graph the data where just the mass is varied and find the resulting period - where the third variable of length is kept constant."
      ]
    },
    {
      "cell_type": "code",
      "metadata": {
        "id": "axjoUl9shN9z"
      },
      "source": [
        "#Reorganize our data into a dataframe\n",
        "df = pd.DataFrame(data, columns = ['Mass (kg)','Length (m)','Period (s)'])\n",
        "print (df)"
      ],
      "execution_count": null,
      "outputs": []
    },
    {
      "cell_type": "code",
      "metadata": {
        "id": "f0ACFnuviRde"
      },
      "source": [
        "#only plot rows 0 through 3\n",
        "data.iloc[0:3].plot(x='Mass (kg)',y='Period (s)')"
      ],
      "execution_count": null,
      "outputs": []
    },
    {
      "cell_type": "markdown",
      "metadata": {
        "id": "C58YGKhzilLR"
      },
      "source": [
        "What is this graph telling us about the relationship between mass and period of pendulums?\n",
        "\n",
        "Now graph all the data with Length (m) on the x-axis to investigate a different relationship within the same motion."
      ]
    },
    {
      "cell_type": "code",
      "metadata": {
        "id": "kCeStu9Q9ApE"
      },
      "source": [
        "plt.scatter(data[\"Length (m)\"], data[\"Period (s)\"]) # Telling what data to plot (x,y)\n",
        "plt.title(\"Period vs. Length Graph\")      # Adding a Title\n",
        "plt.xlabel(\"Length (m)\")                   # Adding axis labels\n",
        "plt.ylabel(\"Period (s)\")"
      ],
      "execution_count": null,
      "outputs": []
    },
    {
      "cell_type": "markdown",
      "metadata": {
        "id": "1dS8RdM-1rxY"
      },
      "source": [
        "Let's create a best fit line for this data and see what it looks like."
      ]
    },
    {
      "cell_type": "code",
      "metadata": {
        "id": "xJRhku5_1vnn"
      },
      "source": [
        "# sample points \n",
        "X = [.1,.3,.5,.7,.9,1]\n",
        "Y = [0.6371,1.1021,1.4227,1.6856,1.9074,2.0103]\n",
        "\n",
        "# solve for a and b\n",
        "def best_fit(X, Y):\n",
        "\n",
        "    xbar = sum(X)/len(X)\n",
        "    ybar = sum(Y)/len(Y)\n",
        "    n = len(X) # or len(Y)\n",
        "\n",
        "    numer = sum([xi*yi for xi,yi in zip(X, Y)]) - n * xbar * ybar\n",
        "    denum = sum([xi**2 for xi in X]) - n * xbar**2\n",
        "\n",
        "    b = numer / denum\n",
        "    a = ybar - b * xbar\n",
        "\n",
        "    print('best fit line:\\ny = {:.2f} + {:.2f}x'.format(a, b))\n",
        "\n",
        "    return a, b\n",
        "\n",
        "# solution\n",
        "a, b = best_fit(X, Y)\n",
        "#best fit line:\n",
        "\n",
        "# plot points and fit line\n",
        "import matplotlib.pyplot as plt\n",
        "plt.scatter(X, Y)\n",
        "yfit = [a + b * xi for xi in X]\n",
        "plt.plot(X, yfit)"
      ],
      "execution_count": null,
      "outputs": []
    },
    {
      "cell_type": "markdown",
      "metadata": {
        "id": "HqPAQhtdQAeM"
      },
      "source": [
        "This doesn't look like a great fit, let's work on a curved fit and see if that works better."
      ]
    },
    {
      "cell_type": "code",
      "metadata": {
        "id": "jTQq1VVESG1G"
      },
      "source": [
        "plt.scatter(data[\"Length (m)\"], data[\"Period (s)\"]) # Telling what data to plot (x,y)\n",
        "plt.title(\"Period vs. Length Graph\")      # Adding a Title\n",
        "plt.xlabel(\"Length (m)\")                   # Adding axis labels\n",
        "plt.ylabel(\"Period (s)\")\n",
        "\n",
        "z = np.polyfit(X,Y,2)\n",
        "p = np.poly1d(z)\n",
        "plt.plot(X,p(X),\"red\")\n",
        "print(z)"
      ],
      "execution_count": null,
      "outputs": []
    },
    {
      "cell_type": "markdown",
      "metadata": {
        "id": "gRSiwf6MUrVT"
      },
      "source": [
        "What does the negative exponent mean for your first polynomial coefficient?"
      ]
    },
    {
      "cell_type": "code",
      "metadata": {
        "id": "zYSqj4N17UvC"
      },
      "source": [
        "#additional draft of curve fit\n",
        "plt.scatter(data[\"Length (m)\"], data[\"Period (s)\"]) # Telling what data to plot (x,y)\n",
        "plt.title(\"Period vs. Length Graph\")      # Adding a Title\n",
        "plt.xlabel(\"Length (m)\")                   # Adding axis labels\n",
        "plt.ylabel(\"Period (s)\")\n",
        "\n",
        "from scipy.optimize import curve_fit\n",
        "def func(x,a,b):\n",
        "  return(a*np.sqrt(x/b))\n",
        "\n",
        "xdata = np.linspace(0, 1, 1000000)\n",
        "y = func(xdata, 6.3, 9.81)\n",
        "plt.scatter(xdata,y)\n",
        "plt.show()\n",
        "\n",
        "#error: need to find how to minimize orange dots and show scatter"
      ],
      "execution_count": null,
      "outputs": []
    },
    {
      "cell_type": "markdown",
      "metadata": {
        "id": "U1X-M1yVQPPx"
      },
      "source": [
        "# Pendulum Lab: Complete Part 1\n",
        "\n",
        "Determine the following answers as a team:\n",
        "\n",
        "*  What is the relationship between mass and period?\n",
        "*  What is the relationship between length and period?\n",
        "\n",
        "Compare your results with other teams in the class."
      ]
    },
    {
      "cell_type": "markdown",
      "metadata": {
        "id": "a8RIoAu9QaJq"
      },
      "source": [
        "# Pendulum Lab: Part 2\n",
        "Recall the relationship between the length and period of a pendulum. Could there be any other variables that affect the period?\n",
        "\n",
        "Return to the PhET and get 2 sets of period data within 5 degrees, keeping the length the same. For example: one set between 5-10 degrees and one set between 35-40 degrees. \n",
        "\n",
        "We will perform a t-test on the averages of these two arrays to see if the periods are truly different when you change the angle of the pendulum."
      ]
    },
    {
      "cell_type": "code",
      "metadata": {
        "id": "_taCld29WQ7d"
      },
      "source": [
        "import scipy.stats as spstats\n",
        "Deg1 = [5,6,7,8,9,10]\n",
        "Per1 = [1.4192,1.4195,1.4198,1.4202,1.4207,1.4212]\n",
        "Deg2 = [35,36,37,38,39,40]\n",
        "Per2 = [1.4523,1.4543,1.4564,1.4585,1.4601,1.463]"
      ],
      "execution_count": null,
      "outputs": []
    },
    {
      "cell_type": "markdown",
      "metadata": {
        "id": "rUB7DMamdN23"
      },
      "source": [
        "Find the average and standard deviation of these two sets of period data"
      ]
    },
    {
      "cell_type": "code",
      "metadata": {
        "id": "Tirj3Kqgdj4u",
        "colab": {
          "base_uri": "https://localhost:8080/",
          "height": 86
        },
        "outputId": "a769f229-eaf8-4399-9987-9a62aa9d8885"
      },
      "source": [
        "print('Mean:', np.mean(Per1))\n",
        "print('Standard Deviation:', np.std(Per1))\n",
        "print('Mean:', np.mean(Per2))\n",
        "print('Standard Deviation:', np.std(Per2))"
      ],
      "execution_count": null,
      "outputs": [
        {
          "output_type": "stream",
          "text": [
            "Mean: 1.4201\n",
            "Standard Deviation: 0.0006879922480183588\n",
            "Mean: 1.4574333333333331\n",
            "Standard Deviation: 0.0035700918133229937\n"
          ],
          "name": "stdout"
        }
      ]
    },
    {
      "cell_type": "code",
      "metadata": {
        "id": "Uee-JGJteAvj",
        "colab": {
          "base_uri": "https://localhost:8080/",
          "height": 35
        },
        "outputId": "ea1aa55b-df3d-4d1a-cf31-fd2d6981dd80"
      },
      "source": [
        "# Perform t-test and print result\n",
        "t_result=stats.ttest_ind_from_stats(1.4201,0.00069,6,1.4574,0.00357,6,equal_var=True)\n",
        "print(t_result)"
      ],
      "execution_count": null,
      "outputs": [
        {
          "output_type": "stream",
          "text": [
            "Ttest_indResult(statistic=-25.127674890095783, pvalue=2.281897913281008e-10)\n"
          ],
          "name": "stdout"
        }
      ]
    },
    {
      "cell_type": "markdown",
      "metadata": {
        "id": "5w3gxLvkfYTJ"
      },
      "source": [
        "We are comparing the average period for these two sets of data. We assume a **null hypothesis**: that the averages are the same. This would be true if there was no relationship between the angle of the pendulum and its period. \n",
        "\n",
        "If your p-value is greater than 0.01, you \"fail to reject the null hypothesis\". This is a way of saying that you have evidence to assume these means are the same. A value above 0.01 would indicate no relationship between angle and period.\n",
        "\n",
        "If your p-value is less than 0.01, you \"reject the null hypothesis\". This is a way of saying you have enough evidence to state that the angle affects the period.\n",
        "\n",
        "If you reject the null, the next step would be to find the equation that describes this relationship."
      ]
    },
    {
      "cell_type": "code",
      "metadata": {
        "id": "Hm_L74h9t-q_"
      },
      "source": [
        "#start by combining your data\n",
        "Deg = [5,6,7,8,9,10,35,36,37,38,39,40]\n",
        "Per = [1.4192,1.4195,1.4198,1.4202,1.4207,1.4212,1.4523,1.4543,1.4564,1.4585,1.4601,1.463]\n",
        "#plot your two lists vs. each other\n",
        "plt.scatter(Deg,Per) \n",
        "plt.title(\"Period vs. Angle Graph\")      \n",
        "plt.xlabel(\"Angle (deg)\")                  \n",
        "plt.ylabel(\"Period (s)\")"
      ],
      "execution_count": null,
      "outputs": []
    },
    {
      "cell_type": "markdown",
      "metadata": {
        "id": "lkcqquKnvDi9"
      },
      "source": [
        "It's likely you'll need to fill in more data points. "
      ]
    },
    {
      "cell_type": "markdown",
      "source": [
        "## Credits\n",
        "This notebook was designed by Quarknet Coding Fellow [Tiffany Coke](https://github.com/fizzixprof). Thanks to the great folks at [Binder](https://mybinder.org/) and [Google Colaboratory](https://colab.research.google.com/notebooks/intro.ipynb) for making this notebook interactive without you needing to download it or install [Jupyter](https://jupyter.org/) on your own device."
      ],
      "metadata": {
        "id": "6o6M_QE1RR97"
      }
    }
  ]
}